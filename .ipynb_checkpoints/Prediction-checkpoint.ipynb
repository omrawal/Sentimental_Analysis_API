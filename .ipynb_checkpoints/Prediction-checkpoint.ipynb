{
 "cells": [
  {
   "cell_type": "code",
   "execution_count": 1,
   "metadata": {},
   "outputs": [],
   "source": [
    "import numpy as np\n",
    "import tensorflow as tf\n",
    "from tensorflow import keras\n",
    "from keras.models import load_model\n",
    "import pickle\n",
    "from keras.preprocessing.text import Tokenizer\n",
    "from keras.preprocessing.sequence import pad_sequences\n",
    "from keras import regularizers"
   ]
  },
  {
   "cell_type": "code",
   "execution_count": 2,
   "metadata": {},
   "outputs": [],
   "source": [
    "def predict(chats):\n",
    "    max_words = 200\n",
    "    max_len = 200\n",
    "    tokenizer = Tokenizer(num_words=max_words)\n",
    "    model=keras.models.load_model(filepath='C:/Users/Yash/Desktop/Final Year Project/Machine Learning model/model.h5',compile = False)\n",
    "    tokenizer.fit_on_texts(chats)\n",
    "    sequences = tokenizer.texts_to_sequences(chats)\n",
    "    input_to_predict = pad_sequences(sequences, maxlen=max_len)\n",
    "    input_to_predict=np.array(input_to_predict)\n",
    "    input_to_predict=np.array(input_to_predict)\n",
    "    positiveScore=0\n",
    "    negativeScore=0\n",
    "    output=model.predict(input_to_predict)  \n",
    "    for i in output:\n",
    "        if(i[0]>0.5):\n",
    "            positiveScore=positiveScore+1\n",
    "        else:\n",
    "            negativeScore=negativeScore+1\n",
    "    totalScore=positiveScore/(positiveScore+negativeScore)\n",
    "    return totalScore"
   ]
  },
  {
   "cell_type": "code",
   "execution_count": 4,
   "metadata": {},
   "outputs": [
    {
     "data": {
      "text/plain": [
       "0.5"
      ]
     },
     "execution_count": 4,
     "metadata": {},
     "output_type": "execute_result"
    }
   ],
   "source": [
    "predict(['Yes Yes Yes Yes YES!!!',\"I was in an accident and now I have to pay for my car's reapirs. I am already short on money and I am not sure if I will even be able to pay rent next week\"])"
   ]
  },
  {
   "cell_type": "code",
   "execution_count": null,
   "metadata": {},
   "outputs": [],
   "source": []
  }
 ],
 "metadata": {
  "kernelspec": {
   "display_name": "Python 3",
   "language": "python",
   "name": "python3"
  },
  "language_info": {
   "codemirror_mode": {
    "name": "ipython",
    "version": 3
   },
   "file_extension": ".py",
   "mimetype": "text/x-python",
   "name": "python",
   "nbconvert_exporter": "python",
   "pygments_lexer": "ipython3",
   "version": "3.7.6"
  }
 },
 "nbformat": 4,
 "nbformat_minor": 5
}
